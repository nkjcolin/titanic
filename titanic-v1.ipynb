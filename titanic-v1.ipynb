{
 "cells": [
  {
   "cell_type": "code",
   "execution_count": 6,
   "id": "cdbfe360",
   "metadata": {},
   "outputs": [],
   "source": [
    "import pandas as pd\n",
    "import numpy as np\n",
    "import sklearn\n",
    "import matplotlib.pyplot as plt\n",
    "import seaborn as sns"
   ]
  },
  {
   "cell_type": "code",
   "execution_count": 7,
   "id": "d7980d9b",
   "metadata": {},
   "outputs": [],
   "source": [
    "training_data = pd.read_csv('data/train.csv')\n",
    "test_data = pd.read_csv('data/test.csv')\n"
   ]
  },
  {
   "cell_type": "markdown",
   "id": "61d52932",
   "metadata": {},
   "source": [
    "# 1. Check for missing values"
   ]
  },
  {
   "cell_type": "code",
   "execution_count": null,
   "id": "1542aeaa",
   "metadata": {},
   "outputs": [
    {
     "name": "stdout",
     "output_type": "stream",
     "text": [
      "<class 'pandas.core.frame.DataFrame'>\n",
      "RangeIndex: 891 entries, 0 to 890\n",
      "Data columns (total 12 columns):\n",
      " #   Column       Non-Null Count  Dtype  \n",
      "---  ------       --------------  -----  \n",
      " 0   PassengerId  891 non-null    int64  \n",
      " 1   Survived     891 non-null    int64  \n",
      " 2   Pclass       891 non-null    int64  \n",
      " 3   Name         891 non-null    object \n",
      " 4   Sex          891 non-null    object \n",
      " 5   Age          714 non-null    float64\n",
      " 6   SibSp        891 non-null    int64  \n",
      " 7   Parch        891 non-null    int64  \n",
      " 8   Ticket       891 non-null    object \n",
      " 9   Fare         891 non-null    float64\n",
      " 10  Cabin        204 non-null    object \n",
      " 11  Embarked     889 non-null    object \n",
      "dtypes: float64(2), int64(5), object(5)\n",
      "memory usage: 83.7+ KB\n"
     ]
    }
   ],
   "source": [
    "training_data.info()\n",
    "\n"
   ]
  },
  {
   "cell_type": "markdown",
   "id": "0e9688c5",
   "metadata": {},
   "source": [
    "### Findings\n",
    "- Age has missing values - 277\n",
    "- Cabin has missing values - 687\n",
    "- Embarked has missing values - 2\n",
    "\n",
    "### Use Data Wrangler to do\n",
    "- fill median for age values\n",
    "- drop Cabin\n",
    "- drop row for embarked with null values\n"
   ]
  },
  {
   "cell_type": "markdown",
   "id": "e629eee0",
   "metadata": {},
   "source": [
    "# 2. Clean train and data "
   ]
  },
  {
   "cell_type": "code",
   "execution_count": null,
   "id": "f17c71a2",
   "metadata": {},
   "outputs": [
    {
     "name": "stdout",
     "output_type": "stream",
     "text": [
      "<class 'pandas.core.frame.DataFrame'>\n",
      "Index: 889 entries, 0 to 890\n",
      "Data columns (total 11 columns):\n",
      " #   Column       Non-Null Count  Dtype  \n",
      "---  ------       --------------  -----  \n",
      " 0   PassengerId  889 non-null    int64  \n",
      " 1   Survived     889 non-null    int64  \n",
      " 2   Pclass       889 non-null    int64  \n",
      " 3   Name         889 non-null    object \n",
      " 4   Sex          889 non-null    object \n",
      " 5   Age          889 non-null    float64\n",
      " 6   SibSp        889 non-null    int64  \n",
      " 7   Parch        889 non-null    int64  \n",
      " 8   Ticket       889 non-null    object \n",
      " 9   Fare         889 non-null    float64\n",
      " 10  Embarked     889 non-null    object \n",
      "dtypes: float64(2), int64(5), object(4)\n",
      "memory usage: 83.3+ KB\n"
     ]
    }
   ],
   "source": [
    "def clean_data(df):\n",
    "    # Drop column: 'Cabin'\n",
    "    df = df.drop(columns=['Cabin'])\n",
    "\n",
    "    # Replace missing values with the median of each column in: 'Age'\n",
    "    df = df.fillna({'Age': df['Age'].median()})\n",
    "\n",
    "    # Drop rows with missing data in column: 'Embarked'\n",
    "    df = df.dropna(subset=['Embarked'])\n",
    "    \n",
    "    return df\n",
    "\n",
    "\n",
    "csv_train_df = pd.read_csv(r'data/train.csv')\n",
    "\n",
    "clean_train_df = clean_data(csv_train_df.copy())\n",
    "clean_train_df.info()"
   ]
  },
  {
   "cell_type": "code",
   "execution_count": 36,
   "id": "d8b01b5a",
   "metadata": {},
   "outputs": [
    {
     "name": "stdout",
     "output_type": "stream",
     "text": [
      "<class 'pandas.core.frame.DataFrame'>\n",
      "RangeIndex: 418 entries, 0 to 417\n",
      "Data columns (total 10 columns):\n",
      " #   Column       Non-Null Count  Dtype  \n",
      "---  ------       --------------  -----  \n",
      " 0   PassengerId  418 non-null    int64  \n",
      " 1   Pclass       418 non-null    int64  \n",
      " 2   Name         418 non-null    object \n",
      " 3   Sex          418 non-null    object \n",
      " 4   Age          418 non-null    float64\n",
      " 5   SibSp        418 non-null    int64  \n",
      " 6   Parch        418 non-null    int64  \n",
      " 7   Ticket       418 non-null    object \n",
      " 8   Fare         417 non-null    float64\n",
      " 9   Embarked     418 non-null    object \n",
      "dtypes: float64(2), int64(4), object(4)\n",
      "memory usage: 32.8+ KB\n"
     ]
    }
   ],
   "source": [
    "csv_test_df = pd.read_csv(r'data/test.csv')\n",
    "clean_test_df = clean_data(csv_test_df.copy())\n",
    "clean_test_df.info()"
   ]
  },
  {
   "cell_type": "markdown",
   "id": "f3e81135",
   "metadata": {},
   "source": [
    "# 3. Feature Engineering"
   ]
  },
  {
   "cell_type": "code",
   "execution_count": 35,
   "id": "26ace14f",
   "metadata": {},
   "outputs": [
    {
     "name": "stdout",
     "output_type": "stream",
     "text": [
      "<class 'pandas.core.frame.DataFrame'>\n",
      "Index: 889 entries, 0 to 890\n",
      "Data columns (total 8 columns):\n",
      " #   Column      Non-Null Count  Dtype  \n",
      "---  ------      --------------  -----  \n",
      " 0   Survived    889 non-null    int64  \n",
      " 1   Pclass      889 non-null    int64  \n",
      " 2   Sex_male    889 non-null    bool   \n",
      " 3   Age         889 non-null    float64\n",
      " 4   Embarked_Q  889 non-null    int64  \n",
      " 5   Embarked_S  889 non-null    int64  \n",
      " 6   log_Fare    889 non-null    float64\n",
      " 7   FamilySize  889 non-null    int64  \n",
      "dtypes: bool(1), float64(2), int64(5)\n",
      "memory usage: 56.4 KB\n"
     ]
    }
   ],
   "source": [
    "def feature_engineering(df):\n",
    "    # Drop column: 'PassengerId', 'Name', 'Ticket'\n",
    "    df = df.drop(columns=['PassengerId', 'Name', 'Ticket'])\n",
    "\n",
    "    # One-hot encode column: 'Embarked'\n",
    "    df = pd.get_dummies(df, columns=['Embarked'], prefix='Embarked', drop_first=True, dtype=int)\n",
    "\n",
    "    # One-hot encode column: 'Sex'\n",
    "    insert_loc = df.columns.get_loc('Sex')\n",
    "    df = pd.concat([df.iloc[:,:insert_loc], pd.get_dummies(df.loc[:, ['Sex']], drop_first=True), df.iloc[:,insert_loc+1:]], axis=1)\n",
    "    \n",
    "    # Log transform 'Fare' to reduce skewness\n",
    "    df['log_Fare'] = np.log1p(df['Fare'])\n",
    "    df = df.drop(columns=['Fare'])\n",
    "\n",
    "    # Created column 'FamilySize' from formula\n",
    "    df['FamilySize'] = df['SibSp'] + df['Parch'] + 1\n",
    "    df = df.drop(columns=['SibSp', 'Parch'])\n",
    "\n",
    "    return df\n",
    "\n",
    "\n",
    "train_df = feature_engineering(clean_train_df.copy())\n",
    "train_df.info()"
   ]
  },
  {
   "cell_type": "code",
   "execution_count": 37,
   "id": "8a9ae4e3",
   "metadata": {},
   "outputs": [
    {
     "name": "stdout",
     "output_type": "stream",
     "text": [
      "<class 'pandas.core.frame.DataFrame'>\n",
      "RangeIndex: 418 entries, 0 to 417\n",
      "Data columns (total 7 columns):\n",
      " #   Column      Non-Null Count  Dtype  \n",
      "---  ------      --------------  -----  \n",
      " 0   Pclass      418 non-null    int64  \n",
      " 1   Sex_male    418 non-null    bool   \n",
      " 2   Age         418 non-null    float64\n",
      " 3   Embarked_Q  418 non-null    int64  \n",
      " 4   Embarked_S  418 non-null    int64  \n",
      " 5   log_Fare    417 non-null    float64\n",
      " 6   FamilySize  418 non-null    int64  \n",
      "dtypes: bool(1), float64(2), int64(4)\n",
      "memory usage: 20.1 KB\n"
     ]
    }
   ],
   "source": [
    "test_df = feature_engineering(clean_test_df.copy())\n",
    "test_df.info()"
   ]
  },
  {
   "cell_type": "markdown",
   "id": "0804896b",
   "metadata": {},
   "source": [
    "# 4. Prepare for model training"
   ]
  },
  {
   "cell_type": "code",
   "execution_count": 38,
   "id": "19e69d8e",
   "metadata": {},
   "outputs": [],
   "source": [
    "from sklearn.model_selection import train_test_split\n",
    "\n",
    "continuous_features = ['Age', 'log_Fare', 'FamilySize']\n",
    "\n",
    "X = train_df.drop(columns=['Survived'])\n",
    "y = train_df['Survived']\n",
    "\n",
    "# Split data into training (80%) and testing (20%) sets\n",
    "X_train, X_test, y_train, y_test = train_test_split(\n",
    "    X,\n",
    "    y,\n",
    "    test_size=0.2,\n",
    "    random_state=42,\n",
    "    stratify=y # Important for classification to keep proportion of 'Survived' similar in both sets\n",
    ")\n"
   ]
  },
  {
   "cell_type": "code",
   "execution_count": null,
   "id": "97276082",
   "metadata": {},
   "outputs": [
    {
     "name": "stdout",
     "output_type": "stream",
     "text": [
      "✅ Scaling complete. Features are now ready for modeling.\n",
      "\n",
      "X_train shape: (711, 7)\n",
      "X_test shape: (178, 7)\n",
      "test shape: (418, 7)\n"
     ]
    }
   ],
   "source": [
    "from sklearn.preprocessing import StandardScaler\n",
    "\n",
    "\n",
    "scaler = StandardScaler()\n",
    "\n",
    "# Fit the scaler ONLY on the training data (X_train)\n",
    "scaler.fit(X_train[continuous_features])\n",
    "\n",
    "# Transform both the training and testing sets\n",
    "X_train[continuous_features] = scaler.transform(X_train[continuous_features])\n",
    "X_test[continuous_features] = scaler.transform(X_test[continuous_features])\n",
    "\n",
    "test_df[continuous_features] = scaler.transform(test_df[continuous_features])\n",
    "\n",
    "print(\"✅ Scaling complete. Features are now ready for modeling.\")\n",
    "print(\"\\nX_train shape:\", X_train.shape)\n",
    "print(\"X_test shape:\", X_test.shape)"
   ]
  },
  {
   "cell_type": "code",
   "execution_count": 56,
   "id": "1f41bfbc",
   "metadata": {},
   "outputs": [
    {
     "name": "stdout",
     "output_type": "stream",
     "text": [
      "\n",
      "Model training complete.\n"
     ]
    }
   ],
   "source": [
    "from sklearn.ensemble import RandomForestClassifier\n",
    "\n",
    "# 1. Choose a model\n",
    "model = RandomForestClassifier(n_estimators=500, random_state=42)\n",
    "\n",
    "# 2. Train the model using the prepared training data\n",
    "model.fit(X_train, y_train)\n",
    "\n",
    "print(\"\\nModel training complete.\")"
   ]
  },
  {
   "cell_type": "code",
   "execution_count": 57,
   "id": "c98e8ba4",
   "metadata": {},
   "outputs": [
    {
     "name": "stdout",
     "output_type": "stream",
     "text": [
      "Accuracy: 0.7978\n"
     ]
    }
   ],
   "source": [
    "# Assuming your trained model is named 'model'\n",
    "# and your prepared test features are named 'X_test'\n",
    "\n",
    "# Generate predictions for the test features\n",
    "y_pred = model.predict(X_test)\n",
    "\n",
    "from sklearn.metrics import accuracy_score\n",
    "\n",
    "accuracy = accuracy_score(y_test, y_pred)\n",
    "print(f\"Accuracy: {accuracy:.4f}\")"
   ]
  },
  {
   "cell_type": "code",
   "execution_count": null,
   "id": "97e5e68c",
   "metadata": {},
   "outputs": [
    {
     "name": "stdout",
     "output_type": "stream",
     "text": [
      "Submission:\n",
      "<class 'pandas.core.frame.DataFrame'>\n",
      "RangeIndex: 418 entries, 0 to 417\n",
      "Data columns (total 2 columns):\n",
      " #   Column       Non-Null Count  Dtype\n",
      "---  ------       --------------  -----\n",
      " 0   PassengerId  418 non-null    int64\n",
      " 1   Survived     418 non-null    int64\n",
      "dtypes: int64(2)\n",
      "memory usage: 6.7 KB\n"
     ]
    }
   ],
   "source": [
    "y_pred = model.predict(test_df)\n",
    "\n",
    "# Create a new DataFrame with the required columns\n",
    "submission_df = pd.DataFrame({\n",
    "    'PassengerId': clean_test_df['PassengerId'], # Get the Passenger IDs from the original file\n",
    "    'Survived': y_pred                  # Your model's predicted output (0 or 1)\n",
    "})\n",
    "\n",
    "# Ensure the 'Survived' column is of integer type (0 or 1) as required by most platforms\n",
    "submission_df['Survived'] = submission_df['Survived'].astype(int)\n",
    "\n",
    "# Save the DataFrame to a CSV file without the index\n",
    "submission_df.to_csv('submission/titanic_submission.csv', index=False)\n",
    "\n",
    "# Display the first few rows to verify the format\n",
    "print(\"Submission:\")\n",
    "submission_df.info()"
   ]
  },
  {
   "cell_type": "code",
   "execution_count": 61,
   "id": "d099cb00",
   "metadata": {},
   "outputs": [
    {
     "name": "stdout",
     "output_type": "stream",
     "text": [
      "\n",
      "Total predicted Survivors in the submission file: 116\n"
     ]
    }
   ],
   "source": [
    "survived_count = submission_df['Survived'].sum()\n",
    "\n",
    "print(f\"\\nTotal predicted Survivors in the submission file: {survived_count}\")"
   ]
  }
 ],
 "metadata": {
  "kernelspec": {
   "display_name": ".venv",
   "language": "python",
   "name": "python3"
  },
  "language_info": {
   "codemirror_mode": {
    "name": "ipython",
    "version": 3
   },
   "file_extension": ".py",
   "mimetype": "text/x-python",
   "name": "python",
   "nbconvert_exporter": "python",
   "pygments_lexer": "ipython3",
   "version": "3.13.9"
  }
 },
 "nbformat": 4,
 "nbformat_minor": 5
}
